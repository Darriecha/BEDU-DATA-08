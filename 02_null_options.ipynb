{
 "cells": [
  {
   "cell_type": "markdown",
   "id": "d6b60ef0-c031-4346-93da-341ac8ac9788",
   "metadata": {},
   "source": [
    "Find null values in dataframe"
   ]
  },
  {
   "cell_type": "code",
   "execution_count": 3,
   "id": "79730407-64ca-4a6d-8102-2389d27020ca",
   "metadata": {},
   "outputs": [],
   "source": [
    "import pandas as pd\n",
    "import warnings\n",
    "\n",
    "warnings.simplefilter('ignore')"
   ]
  },
  {
   "cell_type": "code",
   "execution_count": 5,
   "id": "ce8ccc80-e8de-4f31-aef0-08339ffaa439",
   "metadata": {},
   "outputs": [
    {
     "data": {
      "text/html": [
       "<div>\n",
       "<style scoped>\n",
       "    .dataframe tbody tr th:only-of-type {\n",
       "        vertical-align: middle;\n",
       "    }\n",
       "\n",
       "    .dataframe tbody tr th {\n",
       "        vertical-align: top;\n",
       "    }\n",
       "\n",
       "    .dataframe thead th {\n",
       "        text-align: right;\n",
       "    }\n",
       "</style>\n",
       "<table border=\"1\" class=\"dataframe\">\n",
       "  <thead>\n",
       "    <tr style=\"text-align: right;\">\n",
       "      <th></th>\n",
       "      <th>work year</th>\n",
       "      <th>job Title</th>\n",
       "      <th>Job_category</th>\n",
       "      <th>salary_currency</th>\n",
       "      <th>salary</th>\n",
       "      <th>salary_in_usd</th>\n",
       "      <th>employee_residence</th>\n",
       "      <th>experience_level</th>\n",
       "      <th>employment_type</th>\n",
       "      <th>work_setting</th>\n",
       "      <th>company_location</th>\n",
       "      <th>company_size</th>\n",
       "    </tr>\n",
       "  </thead>\n",
       "  <tbody>\n",
       "    <tr>\n",
       "      <th>0</th>\n",
       "      <td>2023</td>\n",
       "      <td>Data DevOps Engineer</td>\n",
       "      <td>Data Engineering</td>\n",
       "      <td>EUR</td>\n",
       "      <td>88000</td>\n",
       "      <td>95012</td>\n",
       "      <td>Germany</td>\n",
       "      <td>Mid-level</td>\n",
       "      <td>Full-time</td>\n",
       "      <td>Hybrid</td>\n",
       "      <td>Germany</td>\n",
       "      <td>L</td>\n",
       "    </tr>\n",
       "    <tr>\n",
       "      <th>1</th>\n",
       "      <td>2023</td>\n",
       "      <td>Data Architect</td>\n",
       "      <td>Data Architecture and Modeling</td>\n",
       "      <td>USD</td>\n",
       "      <td>186000</td>\n",
       "      <td>186000</td>\n",
       "      <td>United States</td>\n",
       "      <td>Senior</td>\n",
       "      <td>Full-time</td>\n",
       "      <td>In-person</td>\n",
       "      <td>United States</td>\n",
       "      <td>M</td>\n",
       "    </tr>\n",
       "    <tr>\n",
       "      <th>2</th>\n",
       "      <td>2023</td>\n",
       "      <td>Data Architect</td>\n",
       "      <td>Data Architecture and Modeling</td>\n",
       "      <td>USD</td>\n",
       "      <td>81800</td>\n",
       "      <td>81800</td>\n",
       "      <td>United States</td>\n",
       "      <td>Senior</td>\n",
       "      <td>Full-time</td>\n",
       "      <td>In-person</td>\n",
       "      <td>United States</td>\n",
       "      <td>M</td>\n",
       "    </tr>\n",
       "    <tr>\n",
       "      <th>3</th>\n",
       "      <td>2023</td>\n",
       "      <td>Data Scientist</td>\n",
       "      <td>Data Science and Research</td>\n",
       "      <td>USD</td>\n",
       "      <td>212000</td>\n",
       "      <td>212000</td>\n",
       "      <td>United States</td>\n",
       "      <td>Senior</td>\n",
       "      <td>Full-time</td>\n",
       "      <td>In-person</td>\n",
       "      <td>United States</td>\n",
       "      <td>M</td>\n",
       "    </tr>\n",
       "    <tr>\n",
       "      <th>4</th>\n",
       "      <td>2023</td>\n",
       "      <td>Data Scientist</td>\n",
       "      <td>Data Science and Research</td>\n",
       "      <td>USD</td>\n",
       "      <td>93300</td>\n",
       "      <td>93300</td>\n",
       "      <td>United States</td>\n",
       "      <td>Senior</td>\n",
       "      <td>Full-time</td>\n",
       "      <td>In-person</td>\n",
       "      <td>United States</td>\n",
       "      <td>M</td>\n",
       "    </tr>\n",
       "  </tbody>\n",
       "</table>\n",
       "</div>"
      ],
      "text/plain": [
       "   work year             job Title                    Job_category  \\\n",
       "0       2023  Data DevOps Engineer                Data Engineering   \n",
       "1       2023        Data Architect  Data Architecture and Modeling   \n",
       "2       2023        Data Architect  Data Architecture and Modeling   \n",
       "3       2023        Data Scientist       Data Science and Research   \n",
       "4       2023        Data Scientist       Data Science and Research   \n",
       "\n",
       "  salary_currency  salary  salary_in_usd employee_residence experience_level  \\\n",
       "0             EUR   88000          95012            Germany        Mid-level   \n",
       "1             USD  186000         186000      United States           Senior   \n",
       "2             USD   81800          81800      United States           Senior   \n",
       "3             USD  212000         212000      United States           Senior   \n",
       "4             USD   93300          93300      United States           Senior   \n",
       "\n",
       "  employment_type work_setting company_location company_size  \n",
       "0       Full-time       Hybrid          Germany            L  \n",
       "1       Full-time    In-person    United States            M  \n",
       "2       Full-time    In-person    United States            M  \n",
       "3       Full-time    In-person    United States            M  \n",
       "4       Full-time    In-person    United States            M  "
      ]
     },
     "execution_count": 5,
     "metadata": {},
     "output_type": "execute_result"
    }
   ],
   "source": [
    "#read csv\n",
    "df = pd.read_csv('datasets/jobs_in_data.csv')\n",
    "\n",
    "df.head()"
   ]
  },
  {
   "cell_type": "markdown",
   "id": "965b4efc-0cb5-4c46-bff6-4b085051ad19",
   "metadata": {},
   "source": [
    "Detect null values in DF"
   ]
  },
  {
   "cell_type": "code",
   "execution_count": 15,
   "id": "b8a59a15-fe41-45de-ae2e-1c5e02572e59",
   "metadata": {},
   "outputs": [],
   "source": [
    "null_values = df.isnull()"
   ]
  },
  {
   "cell_type": "code",
   "execution_count": 17,
   "id": "c054d860-6970-4305-bb18-c546d43cee0d",
   "metadata": {},
   "outputs": [],
   "source": [
    "null_count_per_column = df.isnull().sum()"
   ]
  },
  {
   "cell_type": "code",
   "execution_count": 18,
   "id": "d4dd9e34-3d9a-41a1-9678-5caf92958ece",
   "metadata": {},
   "outputs": [
    {
     "data": {
      "text/plain": [
       "work year             0\n",
       "job Title             0\n",
       "Job_category          0\n",
       "salary_currency       0\n",
       "salary                0\n",
       "salary_in_usd         0\n",
       "employee_residence    0\n",
       "experience_level      0\n",
       "employment_type       0\n",
       "work_setting          0\n",
       "company_location      0\n",
       "company_size          0\n",
       "dtype: int64"
      ]
     },
     "execution_count": 18,
     "metadata": {},
     "output_type": "execute_result"
    }
   ],
   "source": []
  },
  {
   "cell_type": "code",
   "execution_count": 20,
   "id": "7531bb42-2c80-41a9-a6ce-acbd41241e26",
   "metadata": {},
   "outputs": [],
   "source": [
    "total_null_count = df.isnull().sum().sum()"
   ]
  },
  {
   "cell_type": "code",
   "execution_count": null,
   "id": "c2e37ce9-c40f-4541-bf5f-4d228c087a47",
   "metadata": {},
   "outputs": [],
   "source": []
  }
 ],
 "metadata": {
  "kernelspec": {
   "display_name": "Python 3 (ipykernel)",
   "language": "python",
   "name": "python3"
  },
  "language_info": {
   "codemirror_mode": {
    "name": "ipython",
    "version": 3
   },
   "file_extension": ".py",
   "mimetype": "text/x-python",
   "name": "python",
   "nbconvert_exporter": "python",
   "pygments_lexer": "ipython3",
   "version": "3.11.7"
  }
 },
 "nbformat": 4,
 "nbformat_minor": 5
}
